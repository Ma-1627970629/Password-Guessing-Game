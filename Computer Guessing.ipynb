{
 "cells": [
  {
   "cell_type": "code",
   "execution_count": 46,
   "id": "3de271ea",
   "metadata": {},
   "outputs": [],
   "source": [
    "import random\n",
    "import numpy as np\n",
    "from itertools import permutations\n",
    "import torch\n",
    "import torch.nn as nn\n",
    "import torch.optim as optim\n",
    "import matplotlib.pyplot as plt"
   ]
  },
  {
   "cell_type": "code",
   "execution_count": 17,
   "id": "d0e37d5f",
   "metadata": {},
   "outputs": [
    {
     "name": "stdout",
     "output_type": "stream",
     "text": [
      "action_space_size is: 1680\n"
     ]
    }
   ],
   "source": [
    "all_posibilities = list(permutations(range(1, 9), 4))\n",
    "action_space_size = len(all_posibilities)\n",
    "print(f\"action_space_size is: {action_space_size}\")"
   ]
  },
  {
   "cell_type": "code",
   "execution_count": 35,
   "id": "70b00c2c",
   "metadata": {},
   "outputs": [],
   "source": [
    "#Getting Feedback\n",
    "def get_feedback(guess, password):\n",
    "    green = sum(g == p for g, p in zip(guess, password))\n",
    "    yellow = sum(min(guess.count(d), password.count(d)) for d in set(guess)) - green\n",
    "    return green, yellow"
   ]
  },
  {
   "cell_type": "code",
   "execution_count": 45,
   "id": "ee83440d",
   "metadata": {},
   "outputs": [],
   "source": [
    "#Reward Function\n",
    "def reward_function(feedback):\n",
    "    green, yellow = feedback\n",
    "    return green * 10 + yellow * 2 - 5"
   ]
  },
  {
   "cell_type": "code",
   "execution_count": 42,
   "id": "e4121230",
   "metadata": {},
   "outputs": [],
   "source": [
    "#State Encoding\n",
    "def get_state(guess, green, yellow):\n",
    "    guess_vector = np.zeros(action_space_size)\n",
    "    guess_index = all_posibilities.index(guess)\n",
    "    guess_vector[guess_index] = 1\n",
    "    feedback_vector = np.array([green, yellow]) / 4.0 #Normalization\n",
    "    return np.concatenate([guess_vector, feedback_vector])"
   ]
  },
  {
   "cell_type": "code",
   "execution_count": 27,
   "id": "150d13b1",
   "metadata": {},
   "outputs": [],
   "source": [
    "# Q-Network Construction\n",
    "class QNetwork(nn.Module):\n",
    "    def __init__(self, input_dim, output_dim):\n",
    "        super(QNetwork, self).__init__()\n",
    "        self.model = nn.Sequential(nn.Linear(input_dim, 512), nn.ReLU(), \n",
    "                                   nn.Linear(512, output_dim))\n",
    "        \n",
    "    def forward(self, x):\n",
    "        return self.model(x)"
   ]
  },
  {
   "cell_type": "code",
   "execution_count": 31,
   "id": "e2905450",
   "metadata": {},
   "outputs": [],
   "source": [
    "learning_rate = 0.001\n",
    "gamma = 0.95\n",
    "alpha = 0.1\n",
    "epsilon = 1.0\n",
    "epsilon_min = 0.05\n",
    "epsilon_decay = 0.999\n",
    "epochs = 3000"
   ]
  },
  {
   "cell_type": "code",
   "execution_count": 32,
   "id": "7c803bde",
   "metadata": {},
   "outputs": [],
   "source": [
    "#initialization\n",
    "state_dim = action_space_size + 2\n",
    "q_net = QNetwork(state_dim, action_space_size)\n",
    "optimizer = optim.Adam(q_net.parameters(), lr = learning_rate)\n",
    "loss_function = nn.MSELoss()"
   ]
  },
  {
   "cell_type": "code",
   "execution_count": 44,
   "id": "1c396ba4",
   "metadata": {},
   "outputs": [
    {
     "ename": "NameError",
     "evalue": "name 'episode' is not defined",
     "output_type": "error",
     "traceback": [
      "\u001b[1;31m---------------------------------------------------------------------------\u001b[0m",
      "\u001b[1;31mNameError\u001b[0m                                 Traceback (most recent call last)",
      "Cell \u001b[1;32mIn[44], line 61\u001b[0m\n\u001b[0;32m     58\u001b[0m epsilon \u001b[38;5;241m=\u001b[39m \u001b[38;5;28mmax\u001b[39m(epsilon \u001b[38;5;241m*\u001b[39m epsilon_decay, epsilon_min)\n\u001b[0;32m     60\u001b[0m \u001b[38;5;28;01mif\u001b[39;00m (each_round \u001b[38;5;241m+\u001b[39m \u001b[38;5;241m1\u001b[39m) \u001b[38;5;241m%\u001b[39m \u001b[38;5;241m100\u001b[39m \u001b[38;5;241m==\u001b[39m \u001b[38;5;241m0\u001b[39m:\n\u001b[1;32m---> 61\u001b[0m      \u001b[38;5;28mprint\u001b[39m(\u001b[38;5;124mf\u001b[39m\u001b[38;5;124m\"\u001b[39m\u001b[38;5;124mEpisode \u001b[39m\u001b[38;5;132;01m{\u001b[39;00mepisode\u001b[38;5;250m \u001b[39m\u001b[38;5;241m+\u001b[39m\u001b[38;5;250m \u001b[39m\u001b[38;5;241m1\u001b[39m\u001b[38;5;132;01m}\u001b[39;00m\u001b[38;5;124m, Steps: \u001b[39m\u001b[38;5;132;01m{\u001b[39;00msteps\u001b[38;5;132;01m}\u001b[39;00m\u001b[38;5;124m, Reward: \u001b[39m\u001b[38;5;132;01m{\u001b[39;00mtotal_reward\u001b[38;5;132;01m}\u001b[39;00m\u001b[38;5;124m, Epsilon: \u001b[39m\u001b[38;5;132;01m{\u001b[39;00mepsilon\u001b[38;5;132;01m:\u001b[39;00m\u001b[38;5;124m.3f\u001b[39m\u001b[38;5;132;01m}\u001b[39;00m\u001b[38;5;124m\"\u001b[39m)\n",
      "\u001b[1;31mNameError\u001b[0m: name 'episode' is not defined"
     ]
    }
   ],
   "source": [
    "#Training Process\n",
    "all_rewards = []\n",
    "all_steps = []\n",
    "\n",
    "for each_round in range(epochs):   \n",
    "    password = random.choice(all_posibilities)     #generate initial password\n",
    "    done = False                                   #not stop when guess corrected\n",
    "    total_reward = 0\n",
    "    steps = 0\n",
    "    history = []\n",
    "    \n",
    "    while not done and steps < 30:\n",
    "        #get state\n",
    "        if history:                           #history-based state\n",
    "            prev_guess, (g, y) = history[-1]\n",
    "            state = torch.tensor(get_state(prev_guess, g, y), dtype = torch.float32)\n",
    "        else:\n",
    "            state = torch.zeros(state_dim)    #initial state\n",
    "            \n",
    "        #e-greedy strategy\n",
    "        if random.random() < epsilon:\n",
    "            action_index = random.randint(0, action_space_size - 1)  #exploration\n",
    "        else:\n",
    "            with torch.no_grad():\n",
    "                q_values = q_net(state.unsqueeze(0))\n",
    "                action_index = torch.argmax(q_values).item()         #utilization\n",
    "                \n",
    "        guess = all_posibilities[action_index]\n",
    "        feedback = get_feedback(guess, password)\n",
    "        #break\n",
    "        if feedback[0] == 4:\n",
    "            reward = 100\n",
    "            done = True\n",
    "        else:\n",
    "            reward = reward_function(feedback)\n",
    "        total_reward += reward\n",
    "        steps += 1\n",
    "        \n",
    "        #update state\n",
    "        next_state = torch.tensor(get_state(guess, *feedback), dtype = torch.float32)\n",
    "        \n",
    "        #update q_net_param using Bellman Function\n",
    "        with torch.no_grad():\n",
    "            target_q = reward + gamma * torch.max(q_net(next_state.unsqueeze(0)))   \n",
    "        predicted_q = q_net(state.unsqueeze(0))[0, action_index]\n",
    "        loss = loss_function(predicted_q, target_q)\n",
    "        \n",
    "        optimizer.zero_grad()\n",
    "        loss.backward()\n",
    "        optimizer.step()\n",
    "        \n",
    "        #update history\n",
    "        history.append((guess, feedback))\n",
    "        \n",
    "    \n",
    "    #rewards/steps storage\n",
    "    all_rewards.append(total_reward)\n",
    "    all_steps.append(steps)\n",
    "    #update epsilon\n",
    "    epsilon = max(epsilon * epsilon_decay, epsilon_min)\n",
    "    \n",
    "    if (each_round + 1) % 100 == 0:\n",
    "         print(f\"Episode {each_round + 1}, Steps: {steps}, Reward: {total_reward}, Epsilon: {epsilon:.3f}\")\n",
    "            "
   ]
  },
  {
   "cell_type": "code",
   "execution_count": null,
   "id": "6a8303c2",
   "metadata": {},
   "outputs": [],
   "source": []
  }
 ],
 "metadata": {
  "kernelspec": {
   "display_name": "Python 3 (ipykernel)",
   "language": "python",
   "name": "python3"
  },
  "language_info": {
   "codemirror_mode": {
    "name": "ipython",
    "version": 3
   },
   "file_extension": ".py",
   "mimetype": "text/x-python",
   "name": "python",
   "nbconvert_exporter": "python",
   "pygments_lexer": "ipython3",
   "version": "3.9.21"
  }
 },
 "nbformat": 4,
 "nbformat_minor": 5
}
