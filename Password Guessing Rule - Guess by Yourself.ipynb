{
 "cells": [
  {
   "cell_type": "code",
   "execution_count": 1,
   "id": "2a0c3605",
   "metadata": {},
   "outputs": [],
   "source": [
    "import random"
   ]
  },
  {
   "cell_type": "code",
   "execution_count": 2,
   "id": "d903ac20",
   "metadata": {},
   "outputs": [],
   "source": [
    "def generate_password():\n",
    "    # Randomly select 4 non-repeating numbers from 1 to 8 as the password\n",
    "    return random.sample(range(1, 9), 4)"
   ]
  },
  {
   "cell_type": "code",
   "execution_count": 3,
   "id": "684fd997",
   "metadata": {},
   "outputs": [],
   "source": [
    "def get_feedback(guess, password):\n",
    "    feedback = []\n",
    "    for i in range(4):\n",
    "        if guess[i] == password[i]:\n",
    "            feedback.append(\"🟩\")  # Green: the numbers and positions are right\n",
    "        elif guess[i] in password:\n",
    "            feedback.append(\"🟨\")  # Yellow: the numbers are right，positions are wrong\n",
    "        else:\n",
    "            feedback.append(\"🟥\")  # Red: the numbers are not in the password\n",
    "    return feedback"
   ]
  },
  {
   "cell_type": "code",
   "execution_count": 4,
   "id": "1220c50b",
   "metadata": {},
   "outputs": [],
   "source": [
    "def print_feedback(guess, feedback):\n",
    "    print(\"Your Guess: \", guess)\n",
    "    print(\"Promption: \", \" \".join(feedback))\n",
    "    print(\"-\" * 30)"
   ]
  },
  {
   "cell_type": "code",
   "execution_count": 5,
   "id": "ab8b36d1",
   "metadata": {},
   "outputs": [],
   "source": [
    "def is_correct(feedback):\n",
    "    return all(f == \"🟩\" for f in feedback)"
   ]
  },
  {
   "cell_type": "code",
   "execution_count": 7,
   "id": "8767ff08",
   "metadata": {},
   "outputs": [
    {
     "name": "stdout",
     "output_type": "stream",
     "text": [
      "Welcome to the Password-Guessing Game！\n",
      "The password consists of four non-repeating numbers between 1 and 8, and guess what！\n",
      "Enter your 4-digit guess (e.g. 1234)：3457\n",
      "Your Guess:  [3, 4, 5, 7]\n",
      "Promption:  🟨 🟥 🟥 🟨\n",
      "------------------------------\n",
      "Enter your 4-digit guess (e.g. 1234)：1378\n",
      "Your Guess:  [1, 3, 7, 8]\n",
      "Promption:  🟨 🟨 🟨 🟥\n",
      "------------------------------\n",
      "Enter your 4-digit guess (e.g. 1234)：7163\n",
      "Your Guess:  [7, 1, 6, 3]\n",
      "Promption:  🟩 🟨 🟨 🟨\n",
      "------------------------------\n",
      "Enter your 4-digit guess (e.g. 1234)：7631\n",
      "Your Guess:  [7, 6, 3, 1]\n",
      "Promption:  🟩 🟩 🟩 🟩\n",
      "------------------------------\n",
      "Congratulations on guessing the right password! Total guesses 4 ！\n"
     ]
    }
   ],
   "source": [
    "def main():\n",
    "    print(\"Welcome to the Password-Guessing Game！\")\n",
    "    print(\"The password consists of four non-repeating numbers between 1 and 8, and guess what！\")\n",
    "    password = generate_password()\n",
    "    # print(\"Password：\", password)  # For debugging\n",
    "\n",
    "    attempts = 0\n",
    "    while True:  #Main Loop\n",
    "        try:\n",
    "            guess_input = input(\"Enter your 4-digit guess (e.g. 1234)：\")\n",
    "            guess = list(map(int, guess_input))\n",
    "                    #map(int, ...) Convert to a list of integers guess\n",
    "            if len(guess) != 4:\n",
    "                raise ValueError(\"Please rightly enter FOUR digitals\")\n",
    "            if len(set(guess)) != 4:\n",
    "                raise ValueError(\"Digitals are non-repeating\")\n",
    "            if any(n < 1 or n > 8 for n in guess):\n",
    "                raise ValueError(\"Digitals are between 1-8\")\n",
    "        except ValueError as ve:\n",
    "            print(\"Error input：\", ve)\n",
    "            continue\n",
    "\n",
    "        attempts += 1\n",
    "        feedback = get_feedback(guess, password)\n",
    "        print_feedback(guess, feedback)\n",
    "\n",
    "        if is_correct(feedback):\n",
    "            print(f\"Congratulations on guessing the right password! Total guesses {attempts} ！\")\n",
    "            break\n",
    "            \n",
    "if __name__ == \"__main__\":\n",
    "    main()"
   ]
  },
  {
   "cell_type": "code",
   "execution_count": null,
   "id": "3ca21bc2",
   "metadata": {},
   "outputs": [],
   "source": []
  }
 ],
 "metadata": {
  "kernelspec": {
   "display_name": "Python 3 (ipykernel)",
   "language": "python",
   "name": "python3"
  },
  "language_info": {
   "codemirror_mode": {
    "name": "ipython",
    "version": 3
   },
   "file_extension": ".py",
   "mimetype": "text/x-python",
   "name": "python",
   "nbconvert_exporter": "python",
   "pygments_lexer": "ipython3",
   "version": "3.9.21"
  }
 },
 "nbformat": 4,
 "nbformat_minor": 5
}
